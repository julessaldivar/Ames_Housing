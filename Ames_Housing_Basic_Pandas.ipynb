{
 "cells": [
  {
   "cell_type": "markdown",
   "id": "102e9950",
   "metadata": {},
   "source": [
    "## Question 1\n",
    "**Read csv file into dataframe and display first 5 row**"
   ]
  },
  {
   "cell_type": "code",
   "execution_count": 81,
   "id": "2bd313c2",
   "metadata": {
    "scrolled": true
   },
   "outputs": [
    {
     "data": {
      "text/html": [
       "<div>\n",
       "<style scoped>\n",
       "    .dataframe tbody tr th:only-of-type {\n",
       "        vertical-align: middle;\n",
       "    }\n",
       "\n",
       "    .dataframe tbody tr th {\n",
       "        vertical-align: top;\n",
       "    }\n",
       "\n",
       "    .dataframe thead th {\n",
       "        text-align: right;\n",
       "    }\n",
       "</style>\n",
       "<table border=\"1\" class=\"dataframe\">\n",
       "  <thead>\n",
       "    <tr style=\"text-align: right;\">\n",
       "      <th></th>\n",
       "      <th>Order</th>\n",
       "      <th>PID</th>\n",
       "      <th>MS SubClass</th>\n",
       "      <th>MS Zoning</th>\n",
       "      <th>Lot Frontage</th>\n",
       "      <th>Lot Area</th>\n",
       "      <th>Street</th>\n",
       "      <th>Alley</th>\n",
       "      <th>Lot Shape</th>\n",
       "      <th>Land Contour</th>\n",
       "      <th>...</th>\n",
       "      <th>Pool Area</th>\n",
       "      <th>Pool QC</th>\n",
       "      <th>Fence</th>\n",
       "      <th>Misc Feature</th>\n",
       "      <th>Misc Val</th>\n",
       "      <th>Mo Sold</th>\n",
       "      <th>Yr Sold</th>\n",
       "      <th>Sale Type</th>\n",
       "      <th>Sale Condition</th>\n",
       "      <th>SalePrice</th>\n",
       "    </tr>\n",
       "  </thead>\n",
       "  <tbody>\n",
       "    <tr>\n",
       "      <th>0</th>\n",
       "      <td>1</td>\n",
       "      <td>526301100</td>\n",
       "      <td>20</td>\n",
       "      <td>RL</td>\n",
       "      <td>141.0</td>\n",
       "      <td>31770</td>\n",
       "      <td>Pave</td>\n",
       "      <td>NaN</td>\n",
       "      <td>IR1</td>\n",
       "      <td>Lvl</td>\n",
       "      <td>...</td>\n",
       "      <td>0</td>\n",
       "      <td>NaN</td>\n",
       "      <td>NaN</td>\n",
       "      <td>NaN</td>\n",
       "      <td>0</td>\n",
       "      <td>5</td>\n",
       "      <td>2010</td>\n",
       "      <td>WD</td>\n",
       "      <td>Normal</td>\n",
       "      <td>215000</td>\n",
       "    </tr>\n",
       "    <tr>\n",
       "      <th>1</th>\n",
       "      <td>2</td>\n",
       "      <td>526350040</td>\n",
       "      <td>20</td>\n",
       "      <td>RH</td>\n",
       "      <td>80.0</td>\n",
       "      <td>11622</td>\n",
       "      <td>Pave</td>\n",
       "      <td>NaN</td>\n",
       "      <td>Reg</td>\n",
       "      <td>Lvl</td>\n",
       "      <td>...</td>\n",
       "      <td>0</td>\n",
       "      <td>NaN</td>\n",
       "      <td>MnPrv</td>\n",
       "      <td>NaN</td>\n",
       "      <td>0</td>\n",
       "      <td>6</td>\n",
       "      <td>2010</td>\n",
       "      <td>WD</td>\n",
       "      <td>Normal</td>\n",
       "      <td>105000</td>\n",
       "    </tr>\n",
       "    <tr>\n",
       "      <th>2</th>\n",
       "      <td>3</td>\n",
       "      <td>526351010</td>\n",
       "      <td>20</td>\n",
       "      <td>RL</td>\n",
       "      <td>81.0</td>\n",
       "      <td>14267</td>\n",
       "      <td>Pave</td>\n",
       "      <td>NaN</td>\n",
       "      <td>IR1</td>\n",
       "      <td>Lvl</td>\n",
       "      <td>...</td>\n",
       "      <td>0</td>\n",
       "      <td>NaN</td>\n",
       "      <td>NaN</td>\n",
       "      <td>Gar2</td>\n",
       "      <td>12500</td>\n",
       "      <td>6</td>\n",
       "      <td>2010</td>\n",
       "      <td>WD</td>\n",
       "      <td>Normal</td>\n",
       "      <td>172000</td>\n",
       "    </tr>\n",
       "    <tr>\n",
       "      <th>3</th>\n",
       "      <td>4</td>\n",
       "      <td>526353030</td>\n",
       "      <td>20</td>\n",
       "      <td>RL</td>\n",
       "      <td>93.0</td>\n",
       "      <td>11160</td>\n",
       "      <td>Pave</td>\n",
       "      <td>NaN</td>\n",
       "      <td>Reg</td>\n",
       "      <td>Lvl</td>\n",
       "      <td>...</td>\n",
       "      <td>0</td>\n",
       "      <td>NaN</td>\n",
       "      <td>NaN</td>\n",
       "      <td>NaN</td>\n",
       "      <td>0</td>\n",
       "      <td>4</td>\n",
       "      <td>2010</td>\n",
       "      <td>WD</td>\n",
       "      <td>Normal</td>\n",
       "      <td>244000</td>\n",
       "    </tr>\n",
       "    <tr>\n",
       "      <th>4</th>\n",
       "      <td>5</td>\n",
       "      <td>527105010</td>\n",
       "      <td>60</td>\n",
       "      <td>RL</td>\n",
       "      <td>74.0</td>\n",
       "      <td>13830</td>\n",
       "      <td>Pave</td>\n",
       "      <td>NaN</td>\n",
       "      <td>IR1</td>\n",
       "      <td>Lvl</td>\n",
       "      <td>...</td>\n",
       "      <td>0</td>\n",
       "      <td>NaN</td>\n",
       "      <td>MnPrv</td>\n",
       "      <td>NaN</td>\n",
       "      <td>0</td>\n",
       "      <td>3</td>\n",
       "      <td>2010</td>\n",
       "      <td>WD</td>\n",
       "      <td>Normal</td>\n",
       "      <td>189900</td>\n",
       "    </tr>\n",
       "  </tbody>\n",
       "</table>\n",
       "<p>5 rows × 82 columns</p>\n",
       "</div>"
      ],
      "text/plain": [
       "   Order        PID  MS SubClass MS Zoning  Lot Frontage  Lot Area Street  \\\n",
       "0      1  526301100           20        RL         141.0     31770   Pave   \n",
       "1      2  526350040           20        RH          80.0     11622   Pave   \n",
       "2      3  526351010           20        RL          81.0     14267   Pave   \n",
       "3      4  526353030           20        RL          93.0     11160   Pave   \n",
       "4      5  527105010           60        RL          74.0     13830   Pave   \n",
       "\n",
       "  Alley Lot Shape Land Contour  ... Pool Area Pool QC  Fence Misc Feature  \\\n",
       "0   NaN       IR1          Lvl  ...         0     NaN    NaN          NaN   \n",
       "1   NaN       Reg          Lvl  ...         0     NaN  MnPrv          NaN   \n",
       "2   NaN       IR1          Lvl  ...         0     NaN    NaN         Gar2   \n",
       "3   NaN       Reg          Lvl  ...         0     NaN    NaN          NaN   \n",
       "4   NaN       IR1          Lvl  ...         0     NaN  MnPrv          NaN   \n",
       "\n",
       "  Misc Val Mo Sold Yr Sold Sale Type  Sale Condition  SalePrice  \n",
       "0        0       5    2010       WD           Normal     215000  \n",
       "1        0       6    2010       WD           Normal     105000  \n",
       "2    12500       6    2010       WD           Normal     172000  \n",
       "3        0       4    2010       WD           Normal     244000  \n",
       "4        0       3    2010       WD           Normal     189900  \n",
       "\n",
       "[5 rows x 82 columns]"
      ]
     },
     "execution_count": 81,
     "metadata": {},
     "output_type": "execute_result"
    }
   ],
   "source": [
    "import pandas as pd \n",
    "df = pd.read_csv(r\"C:\\Users\\jules_7owst96\\code\\Grand Circus\\Week3\\AmesHousing.csv\")\n",
    "df.head()\n"
   ]
  },
  {
   "cell_type": "markdown",
   "id": "35294946",
   "metadata": {},
   "source": [
    "## Question 2\n",
    "**Print highest and lowest priced homes in Ames**"
   ]
  },
  {
   "cell_type": "code",
   "execution_count": 92,
   "id": "d2625700",
   "metadata": {
    "scrolled": true
   },
   "outputs": [
    {
     "name": "stdout",
     "output_type": "stream",
     "text": [
      "Highest Priced Home:\n",
      "      Order        PID  MS SubClass MS Zoning  Lot Frontage  Lot Area Street  \\\n",
      "1767   1768  528351010           60        RL         104.0     21535   Pave   \n",
      "\n",
      "     Alley Lot Shape Land Contour  ... Pool QC Fence Misc Feature Misc Val  \\\n",
      "1767   NaN       IR1          Lvl  ...     NaN   NaN          NaN        0   \n",
      "\n",
      "     Mo Sold Yr Sold Sale Type Sale Condition  SalePrice  Formatted_SalePrice  \n",
      "1767       1    2007       WD          Normal     755000             $755,000  \n",
      "\n",
      "[1 rows x 83 columns]\n",
      "\n",
      "Lowest Priced Home:\n",
      "     Order        PID  MS SubClass MS Zoning  Lot Frontage  Lot Area Street  \\\n",
      "181    182  902207130           30        RM          68.0      9656   Pave   \n",
      "\n",
      "    Alley Lot Shape Land Contour  ... Pool QC Fence Misc Feature Misc Val  \\\n",
      "181   NaN       Reg          Lvl  ...     NaN   NaN          NaN        0   \n",
      "\n",
      "    Mo Sold Yr Sold Sale Type Sale Condition  SalePrice  Formatted_SalePrice  \n",
      "181       6    2010       WD         Abnorml      12789              $12,789  \n",
      "\n",
      "[1 rows x 83 columns]\n"
     ]
    }
   ],
   "source": [
    "print(\"Highest Priced Home:\")\n",
    "print(df[df[\"SalePrice\"] == df[\"SalePrice\"].max()])\n",
    "print(\"\\nLowest Priced Home:\")\n",
    "print(df[df[\"SalePrice\"] == df[\"SalePrice\"].min()])"
   ]
  },
  {
   "cell_type": "markdown",
   "id": "af8e39f9",
   "metadata": {},
   "source": [
    "## Question 3\n",
    "**How many categories does lot size have?**"
   ]
  },
  {
   "cell_type": "code",
   "execution_count": 84,
   "id": "38194cbd",
   "metadata": {},
   "outputs": [
    {
     "name": "stdout",
     "output_type": "stream",
     "text": [
      "Number of Lot Area categories: 1960\n"
     ]
    }
   ],
   "source": [
    "lot_area_categories = df[\"Lot Area\"].nunique()  # nunique() returns unique values for a column\n",
    "print(f\"Number of Lot Area categories: {lot_area_categories}\")"
   ]
  },
  {
   "cell_type": "markdown",
   "id": "554ff016",
   "metadata": {},
   "source": [
    "## Question 4\n",
    "**What is the range of years for the house listings in the data?**"
   ]
  },
  {
   "cell_type": "code",
   "execution_count": 85,
   "id": "c964b22a",
   "metadata": {},
   "outputs": [
    {
     "name": "stdout",
     "output_type": "stream",
     "text": [
      "Range of years for house listings: 2006 - 2010\n"
     ]
    }
   ],
   "source": [
    "min_year = df[\"Yr Sold\"].min()\n",
    "max_year = df[\"Yr Sold\"].max()\n",
    "print(f\"Range of years for house listings: {min_year} - {max_year}\")"
   ]
  },
  {
   "cell_type": "markdown",
   "id": "a0bee9bb",
   "metadata": {},
   "source": [
    "## Question 5 \n",
    "**What is the total number of all homes sold in Ames for all years?**"
   ]
  },
  {
   "cell_type": "code",
   "execution_count": 86,
   "id": "9e09d99a",
   "metadata": {},
   "outputs": [
    {
     "name": "stdout",
     "output_type": "stream",
     "text": [
      "Total homes sold in Ames for all years: 2930\n"
     ]
    }
   ],
   "source": [
    "total_homes_sold = df.shape[0]  # gets the shape of the shape(size) of the array\n",
    "print(f\"Total homes sold in Ames for all years: {total_homes_sold}\")"
   ]
  },
  {
   "cell_type": "markdown",
   "id": "eecfb05f",
   "metadata": {},
   "source": [
    "## Question 6\n",
    "**How many nulls or NA are there in the Lot Frontage column?**"
   ]
  },
  {
   "cell_type": "code",
   "execution_count": 87,
   "id": "1ddaa33a",
   "metadata": {},
   "outputs": [
    {
     "name": "stdout",
     "output_type": "stream",
     "text": [
      "Number of null or na values in Lot Frontage column: 490\n"
     ]
    }
   ],
   "source": [
    "null_lot_frontage = df[\"Lot Frontage\"].isnull().sum()\n",
    "print(f\"Number of null or na values in Lot Frontage column: {null_lot_frontage}\")"
   ]
  },
  {
   "cell_type": "markdown",
   "id": "9ac48356",
   "metadata": {},
   "source": [
    "## Question 7\n",
    "**How many items have a value in Alley and what is the total number of  NA in the column?** "
   ]
  },
  {
   "cell_type": "code",
   "execution_count": 88,
   "id": "d1616fba",
   "metadata": {},
   "outputs": [
    {
     "name": "stdout",
     "output_type": "stream",
     "text": [
      "Number of items with values in Alley column: 198\n",
      "Total number of NA values in Alley column: 2732\n"
     ]
    }
   ],
   "source": [
    "# number not na/null\n",
    "alley_notnull = df[\"Alley\"].notnull().sum()\n",
    "print(f\"Number of items with values in Alley column: {alley_notnull}\")\n",
    "\n",
    "# number null or na in Alley\n",
    "alley_null = df[\"Alley\"].isnull().sum()\n",
    "print(f\"Total number of NA values in Alley column: {alley_null}\")"
   ]
  },
  {
   "cell_type": "markdown",
   "id": "27b8d54e",
   "metadata": {},
   "source": [
    "## Question 8\n",
    "**What are all the homes in Gilbert with Yr Sold being 2009 and 2010?**"
   ]
  },
  {
   "cell_type": "code",
   "execution_count": 94,
   "id": "b928aae8",
   "metadata": {
    "scrolled": true
   },
   "outputs": [
    {
     "name": "stdout",
     "output_type": "stream",
     "text": [
      "Homes in Gilbert with Yr Sold being 2009 or 2010:      Order        PID  MS SubClass MS Zoning  Lot Frontage  Lot Area Street  \\\n",
      "4        5  527105010           60        RL          74.0     13830   Pave   \n",
      "5        6  527105030           60        RL          78.0      9978   Pave   \n",
      "9       10  527162130           60        RL          60.0      7500   Pave   \n",
      "10      11  527163010           60        RL          75.0     10000   Pave   \n",
      "11      12  527165230           20        RL           NaN      7980   Pave   \n",
      "12      13  527166040           60        RL          63.0      8402   Pave   \n",
      "13      14  527180040           20        RL          85.0     10176   Pave   \n",
      "16      17  527225035           50        RL         152.0     12134   Pave   \n",
      "18      19  527276150           20        RL         140.0     19138   Pave   \n",
      "51      52  528218150           20        RL         100.0     18494   Pave   \n",
      "54      55  528231020           80        RL          67.0     13300   Pave   \n",
      "55      56  528240070           60        RL           NaN      7851   Pave   \n",
      "56      57  528240130           60        RL          63.0      8577   Pave   \n",
      "57      58  528250100           80        RL           NaN      7750   Pave   \n",
      "58      59  528292020           60        RL           NaN      9505   Pave   \n",
      "344    345  527105070           60        RL          88.0     10179   Pave   \n",
      "345    346  527105130           60        RL           NaN     11792   Pave   \n",
      "346    347  527107130           80        RL          60.0      8400   Pave   \n",
      "347    348  527108070           20        RL          42.0     14892   Pave   \n",
      "348    349  527110020           80        RL           NaN      8530   Pave   \n",
      "353    354  527161040           80        RL          57.0      8923   Pave   \n",
      "354    355  527162110           60        RL          74.0     10141   Pave   \n",
      "355    356  527162120           60        RL          60.0      7500   Pave   \n",
      "356    357  527163040           60        RL          59.0      7837   Pave   \n",
      "357    358  527163070           60        RL           NaN      9765   Pave   \n",
      "358    359  527163130           60        RL           NaN      8803   Pave   \n",
      "359    360  527164020           20        RL          58.0      7250   Pave   \n",
      "360    361  527164060           60        RL           NaN      9636   Pave   \n",
      "361    362  527164090           60        RL          65.0      8125   Pave   \n",
      "362    363  527165130           20        RL           NaN      9248   Pave   \n",
      "363    364  527166010           60        RL           NaN     10762   Pave   \n",
      "364    365  527180100           20        RL          99.0     11851   Pave   \n",
      "369    370  527276160           60        RL          85.0     11900   Pave   \n",
      "464    465  528218090           60        RL          63.0     10928   Pave   \n",
      "465    466  528220040           60        RL          57.0      8918   Pave   \n",
      "466    467  528221060           60        RL         149.0     12589   Pave   \n",
      "467    468  528221070           60        RL         122.0     11911   Pave   \n",
      "474    475  528235010           60        RL          71.0      7795   Pave   \n",
      "475    476  528235090           60        RL           NaN      8068   Pave   \n",
      "476    477  528235200           80        RL          59.0      9434   Pave   \n",
      "477    478  528240030           60        RL          62.0      7984   Pave   \n",
      "478    479  528240060           80        RL           NaN      7750   Pave   \n",
      "479    480  528240150           60        RL          61.0     10125   Pave   \n",
      "480    481  528250020           60        RL           NaN      8965   Pave   \n",
      "481    482  528250040           60        RL           NaN      8174   Pave   \n",
      "483    484  528275070           60        RL           NaN      8795   Pave   \n",
      "484    485  528275160           60        RL           NaN     12891   Pave   \n",
      "485    486  528280230           60        RL           NaN     12224   Pave   \n",
      "486    487  528290030           80        RL          61.0      9734   Pave   \n",
      "487    488  528290120           60        RL          60.0      8123   Pave   \n",
      "488    489  528290180           60        RL          42.0      8433   Pave   \n",
      "489    490  528290190           80        RL          62.0      7750   Pave   \n",
      "490    491  528292030           60        RL           NaN     15896   Pave   \n",
      "491    492  528292040           60        RL           NaN     24682   Pave   \n",
      "492    493  528292070           60        RL           NaN      8755   Pave   \n",
      "493    494  528294050           80        RL          64.0      7848   Pave   \n",
      "\n",
      "    Alley Lot Shape Land Contour  ... Pool QC  Fence Misc Feature Misc Val  \\\n",
      "4     NaN       IR1          Lvl  ...     NaN  MnPrv          NaN        0   \n",
      "5     NaN       IR1          Lvl  ...     NaN    NaN          NaN        0   \n",
      "9     NaN       Reg          Lvl  ...     NaN    NaN          NaN        0   \n",
      "10    NaN       IR1          Lvl  ...     NaN    NaN          NaN        0   \n",
      "11    NaN       IR1          Lvl  ...     NaN  GdPrv         Shed      500   \n",
      "12    NaN       IR1          Lvl  ...     NaN    NaN          NaN        0   \n",
      "13    NaN       Reg          Lvl  ...     NaN    NaN          NaN        0   \n",
      "16    NaN       IR1          Bnk  ...     NaN    NaN          NaN        0   \n",
      "18    NaN       Reg          Lvl  ...     NaN    NaN          NaN        0   \n",
      "51    NaN       IR1          Lvl  ...     NaN    NaN          NaN        0   \n",
      "54    NaN       IR1          Lvl  ...     NaN    NaN          NaN        0   \n",
      "55    NaN       Reg          Lvl  ...     NaN    NaN          NaN        0   \n",
      "56    NaN       IR1          Lvl  ...     NaN    NaN          NaN        0   \n",
      "57    NaN       IR1          Lvl  ...     NaN    NaN          NaN        0   \n",
      "58    NaN       IR1          Lvl  ...     NaN    NaN          NaN        0   \n",
      "344   NaN       IR1          Lvl  ...     NaN    NaN          NaN        0   \n",
      "345   NaN       IR1          Lvl  ...     NaN    NaN          NaN        0   \n",
      "346   NaN       Reg          Lvl  ...     NaN    NaN         Shed      490   \n",
      "347   NaN       IR1          HLS  ...     NaN    NaN          NaN        0   \n",
      "348   NaN       IR1          Lvl  ...     NaN    NaN         Shed      700   \n",
      "353   NaN       IR1          Lvl  ...     NaN    NaN          NaN        0   \n",
      "354   NaN       IR1          Lvl  ...     NaN    NaN          NaN        0   \n",
      "355   NaN       Reg          Lvl  ...     NaN    NaN          NaN        0   \n",
      "356   NaN       IR1          Lvl  ...     NaN    NaN          NaN        0   \n",
      "357   NaN       IR2          Lvl  ...     NaN    NaN         Shed      480   \n",
      "358   NaN       IR1          Lvl  ...     NaN    NaN          NaN        0   \n",
      "359   NaN       Reg          Lvl  ...     NaN    NaN          NaN        0   \n",
      "360   NaN       IR1          Lvl  ...     NaN  MnPrv          NaN        0   \n",
      "361   NaN       Reg          Lvl  ...     NaN    NaN          NaN        0   \n",
      "362   NaN       IR1          Lvl  ...     NaN    NaN          NaN        0   \n",
      "363   NaN       IR1          Lvl  ...     NaN    NaN          NaN        0   \n",
      "364   NaN       Reg          Lvl  ...     NaN    NaN          NaN        0   \n",
      "369   NaN       Reg          Lvl  ...     NaN    NaN          NaN        0   \n",
      "464   NaN       Reg          Lvl  ...     NaN    NaN          NaN        0   \n",
      "465   NaN       IR1          Lvl  ...     NaN    NaN          NaN        0   \n",
      "466   NaN       IR2          Lvl  ...     NaN    NaN          NaN        0   \n",
      "467   NaN       IR2          Lvl  ...     NaN    NaN          NaN        0   \n",
      "474   NaN       IR1          Lvl  ...     NaN    NaN          NaN        0   \n",
      "475   NaN       IR1          Lvl  ...     NaN    NaN          NaN        0   \n",
      "476   NaN       IR1          Lvl  ...     NaN    NaN          NaN        0   \n",
      "477   NaN       IR1          Lvl  ...     NaN    NaN          NaN        0   \n",
      "478   NaN       Reg          Lvl  ...     NaN    NaN          NaN        0   \n",
      "479   NaN       IR1          Lvl  ...     NaN  MnPrv          NaN        0   \n",
      "480   NaN       IR1          Lvl  ...     NaN    NaN          NaN        0   \n",
      "481   NaN       IR1          Lvl  ...     NaN    NaN          NaN        0   \n",
      "483   NaN       IR1          Lvl  ...     NaN    NaN          NaN        0   \n",
      "484   NaN       IR1          Lvl  ...     NaN    NaN          NaN        0   \n",
      "485   NaN       IR1          Lvl  ...     NaN    NaN          NaN        0   \n",
      "486   NaN       IR1          Lvl  ...     NaN    NaN          NaN        0   \n",
      "487   NaN       IR1          Lvl  ...     NaN    NaN          NaN        0   \n",
      "488   NaN       IR1          Lvl  ...     NaN    NaN          NaN        0   \n",
      "489   NaN       Reg          Lvl  ...     NaN    NaN          NaN        0   \n",
      "490   NaN       IR2          Lvl  ...     NaN    NaN          NaN        0   \n",
      "491   NaN       IR3          Lvl  ...     NaN    NaN          NaN        0   \n",
      "492   NaN       IR1          Lvl  ...     NaN  GdPrv          NaN        0   \n",
      "493   NaN       IR1          Lvl  ...     NaN    NaN          NaN        0   \n",
      "\n",
      "    Mo Sold Yr Sold Sale Type Sale Condition  SalePrice  Formatted_SalePrice  \n",
      "4         3    2010       WD          Normal     189900             $189,900  \n",
      "5         6    2010       WD          Normal     195500             $195,500  \n",
      "9         6    2010       WD          Normal     189000             $189,000  \n",
      "10        4    2010       WD          Normal     175900             $175,900  \n",
      "11        3    2010       WD          Normal     185000             $185,000  \n",
      "12        5    2010       WD          Normal     180400             $180,400  \n",
      "13        2    2010       WD          Normal     171500             $171,500  \n",
      "16        6    2010       WD          Normal     164000             $164,000  \n",
      "18        6    2010       WD          Normal     141000             $141,000  \n",
      "51        1    2010       WD          Normal     199500             $199,500  \n",
      "54        6    2010       WD          Normal     184500             $184,500  \n",
      "55        5    2010       WD          Normal     216500             $216,500  \n",
      "56        4    2010       WD          Normal     185088             $185,088  \n",
      "57        4    2010       WD          Normal     180000             $180,000  \n",
      "58        5    2010       WD          Normal     222500             $222,500  \n",
      "344       7    2009       WD          Normal     189500             $189,500  \n",
      "345       8    2009       WD          Normal     270000             $270,000  \n",
      "346       6    2009       WD          Normal     189000             $189,000  \n",
      "347      10    2009       WD          Normal     377500             $377,500  \n",
      "348       5    2009       WD          Normal     168500             $168,500  \n",
      "353       2    2009       WD          Normal     177500             $177,500  \n",
      "354      12    2009       WD          Normal     185000             $185,000  \n",
      "355      10    2009       WD          Normal     191000             $191,000  \n",
      "356       5    2009       WD          Normal     178000             $178,000  \n",
      "357       4    2009       WD          Normal     185000             $185,000  \n",
      "358       7    2009       WD          Normal     181316             $181,316  \n",
      "359      11    2009       WD          Normal     166000             $166,000  \n",
      "360      12    2009       WD          Normal     178000             $178,000  \n",
      "361       3    2009       WD          Normal     174000             $174,000  \n",
      "362       7    2009       WD          Normal     173000             $173,000  \n",
      "363       5    2009       WD          Normal     225000             $225,000  \n",
      "364       5    2009       WD          Normal     180500             $180,500  \n",
      "369       7    2009       WD          Normal     185000             $185,000  \n",
      "464       6    2009       WD          Normal     184000             $184,000  \n",
      "465       7    2009       WD          Normal     167800             $167,800  \n",
      "466       6    2009       WD          Normal     174000             $174,000  \n",
      "467       3    2009       WD          Normal     174000             $174,000  \n",
      "474       7    2009       WD          Normal     188500             $188,500  \n",
      "475      12    2009     ConLI         Normal     200000             $200,000  \n",
      "476       8    2009       WD          Normal     170000             $170,000  \n",
      "477       9    2009       WD          Normal     189500             $189,500  \n",
      "478       3    2009       WD          Normal     184100             $184,100  \n",
      "479       7    2009       WD          Normal     195500             $195,500  \n",
      "480       6    2009       WD          Normal     192000             $192,000  \n",
      "481       5    2009       WD          Normal     178000             $178,000  \n",
      "483       4    2009       WD          Normal     236000             $236,000  \n",
      "484       7    2009       WD          Normal     257500             $257,500  \n",
      "485       7    2009       WD          Normal     244000             $244,000  \n",
      "486       5    2009       WD          Normal     167000             $167,000  \n",
      "487       6    2009       WD          Normal     179000             $179,000  \n",
      "488       6    2009       WD          Normal     190000             $190,000  \n",
      "489       3    2009       WD          Normal     156000             $156,000  \n",
      "490       5    2009       WD          Normal     245000             $245,000  \n",
      "491       6    2009       WD          Normal     181000             $181,000  \n",
      "492       6    2009       WD          Normal     214000             $214,000  \n",
      "493       6    2009       WD          Normal     168000             $168,000  \n",
      "\n",
      "[56 rows x 83 columns]\n"
     ]
    }
   ],
   "source": [
    "gilbert_homes = df[df[\"Neighborhood\"] == \"Gilbert\"]\n",
    "gilbert_homes_2009_2010 = gilbert_homes[(gilbert_homes[\"Yr Sold\"] == 2009) | (gilbert_homes[\"Yr Sold\"] == 2010)]\n",
    "print(f\"Homes in Gilbert with Yr Sold being 2009 or 2010: {gilbert_homes_2009_2010}\")"
   ]
  },
  {
   "cell_type": "markdown",
   "id": "a7b472d1",
   "metadata": {},
   "source": [
    "## Question 9\n",
    "**What is the count of homes sold in Gilbert with Yr Sold being 2010?**"
   ]
  },
  {
   "cell_type": "code",
   "execution_count": 95,
   "id": "88f0a4bc",
   "metadata": {},
   "outputs": [
    {
     "name": "stdout",
     "output_type": "stream",
     "text": [
      "Count of homes in Gilbert with Yr Sold being 2010: 15\n"
     ]
    }
   ],
   "source": [
    "gilbert_homes = df[df[\"Neighborhood\"] == \"Gilbert\"]\n",
    "gilbert_homes_2010 = gilbert_homes[(gilbert_homes[\"Yr Sold\"] == 2010)]\n",
    "count = gilbert_homes_2010.shape[0]\n",
    "print(f\"Count of homes in Gilbert with Yr Sold being 2010: {count}\")"
   ]
  },
  {
   "cell_type": "markdown",
   "id": "8f1897b5",
   "metadata": {},
   "source": [
    "## Question 10\n",
    "**Return the value of the third row, and fifth column.**"
   ]
  },
  {
   "cell_type": "code",
   "execution_count": 93,
   "id": "f148ccff",
   "metadata": {},
   "outputs": [
    {
     "name": "stdout",
     "output_type": "stream",
     "text": [
      "Value of the third row and fifth column: 81.0\n"
     ]
    }
   ],
   "source": [
    "# .iloc is integer-location based indexing for selection by position \n",
    "value = df.iloc[2, 4]  # use 2/4 instead of 3/5 b/c starts at 0 not 1 \n",
    "print(\"Value of the third row and fifth column:\", value)"
   ]
  },
  {
   "cell_type": "markdown",
   "id": "8578f44a",
   "metadata": {},
   "source": [
    "## Question 11\n",
    "**Remake a new column from the SalePrice that includes data formatted with the $, and commas for the thousands/millions digits.**"
   ]
  },
  {
   "cell_type": "code",
   "execution_count": 96,
   "id": "da05d7d5",
   "metadata": {},
   "outputs": [
    {
     "name": "stdout",
     "output_type": "stream",
     "text": [
      "   SalePrice Formatted_SalePrice\n",
      "0     215000            $215,000\n",
      "1     105000            $105,000\n",
      "2     172000            $172,000\n",
      "3     244000            $244,000\n",
      "4     189900            $189,900\n"
     ]
    }
   ],
   "source": [
    "# df[\"Formatted_SalePrice\"] = df[\"SalePrice\"].apply(lambda x: \"${:,.0f}\".format(x))\n",
    "formatted_sale_price = []\n",
    "for i in df[\"SalePrice\"]:\n",
    "    formatted_sale_price.append(\"${:,}\".format(i))\n",
    "df[\"Formatted_SalePrice\"] = formatted_sale_price\n",
    "print(df[[\"SalePrice\", \"Formatted_SalePrice\"]].head())"
   ]
  },
  {
   "cell_type": "markdown",
   "id": "0a43ce44",
   "metadata": {},
   "source": [
    "## Question 12\n",
    "**Output a dataframe with only SalePrice, Neighborhood, and Year Built.  Save this file in your git repository as “minimal_ames_housing.csv”,  Make sure you include the formatted SalePrice from the previous question.**"
   ]
  },
  {
   "cell_type": "code",
   "execution_count": 97,
   "id": "acafa7b3",
   "metadata": {},
   "outputs": [
    {
     "name": "stdout",
     "output_type": "stream",
     "text": [
      "  Formatted_SalePrice Neighborhood  Year Built\n",
      "0            $215,000        NAmes        1960\n",
      "1            $105,000        NAmes        1961\n",
      "2            $172,000        NAmes        1958\n",
      "3            $244,000        NAmes        1968\n",
      "4            $189,900      Gilbert        1997\n"
     ]
    }
   ],
   "source": [
    "selected_columns = [\"Formatted_SalePrice\", \"Neighborhood\", \"Year Built\"] \n",
    "minimal_df = df[selected_columns]\n",
    "print(minimal_df.head())\n",
    "# save minimal dataframe to csv\n",
    "minimal_df.to_csv(\"minimal_ames_housing.csv\")"
   ]
  },
  {
   "cell_type": "code",
   "execution_count": null,
   "id": "0381c949",
   "metadata": {},
   "outputs": [],
   "source": []
  }
 ],
 "metadata": {
  "kernelspec": {
   "display_name": "Python 3 (ipykernel)",
   "language": "python",
   "name": "python3"
  },
  "language_info": {
   "codemirror_mode": {
    "name": "ipython",
    "version": 3
   },
   "file_extension": ".py",
   "mimetype": "text/x-python",
   "name": "python",
   "nbconvert_exporter": "python",
   "pygments_lexer": "ipython3",
   "version": "3.11.7"
  }
 },
 "nbformat": 4,
 "nbformat_minor": 5
}
